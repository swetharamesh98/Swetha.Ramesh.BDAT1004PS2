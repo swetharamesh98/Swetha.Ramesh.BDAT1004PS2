{
 "cells": [
  {
   "cell_type": "markdown",
   "id": "ec244923",
   "metadata": {},
   "source": [
    "# Question 1"
   ]
  },
  {
   "cell_type": "markdown",
   "id": "448c05f2",
   "metadata": {},
   "source": [
    "Consider the following Python module:\n",
    "a = 0\n",
    "def b():\n",
    " global a\n",
    " a = c(a)\n",
    "def c(a):\n",
    " return a + 2\n",
    "After importing the module into the interpreter, you execute:\n",
    "b()\n",
    "b()\n",
    "b()\n",
    "a\n",
    "?\n",
    "What value is displayed when the last expression (a) is evaluated? Explain your answer by indicating what happens in every executed statement."
   ]
  },
  {
   "cell_type": "code",
   "execution_count": 15,
   "id": "b551034b",
   "metadata": {},
   "outputs": [],
   "source": [
    "a = 0\n",
    "def b():\n",
    " global a\n",
    " a = c(a)\n",
    "def c(a):\n",
    " return a + 2"
   ]
  },
  {
   "cell_type": "code",
   "execution_count": 16,
   "id": "f6f18aec",
   "metadata": {},
   "outputs": [
    {
     "data": {
      "text/plain": [
       "6"
      ]
     },
     "execution_count": 16,
     "metadata": {},
     "output_type": "execute_result"
    }
   ],
   "source": [
    "b()  \n",
    "b()\n",
    "b()\n",
    "a"
   ]
  },
  {
   "cell_type": "markdown",
   "id": "60143427",
   "metadata": {},
   "source": [
    "# Question 2"
   ]
  },
  {
   "cell_type": "markdown",
   "id": "5fb35884",
   "metadata": {},
   "source": [
    "Function fileLength(), given to you, takes the name of a file as input and returns the length of the file:\n",
    "fileLength('midterm.py')\n",
    "284\n",
    "fileLength('idterm.py')\n",
    "Traceback (most recent call last):\n",
    "File \"<pyshell#34>\", line 1, in <module>\n",
    " fileLength('idterm.py')\n",
    "File \"/Users/me/midterm.py\", line 3, in fileLength\n",
    " infile = open(filename)\n",
    "FileNotFoundError: [Errno 2] No such file or directory:\n",
    "'idterm.py'\n",
    "As shown above, if the file cannot be found by the interpreter or if it cannot be read as a text file, an exception will be raised. Modify function fileLength() so that a friendly message is printed instead:\n",
    "fileLength('midterm.py')\n",
    "358\n",
    "fileLength('idterm.py')\n",
    "File idterm.py not found."
   ]
  },
  {
   "cell_type": "code",
   "execution_count": 17,
   "id": "fee6e55d",
   "metadata": {},
   "outputs": [],
   "source": [
    "def fileLength(name):\n",
    "    try:\n",
    "        f = open(name,'r')\n",
    "        s = f.read()\n",
    "        print(len(s))\n",
    "    except:\n",
    "        print(\"File\" \" \"+ name + \" \" \"not found.\")\n",
    "        "
   ]
  },
  {
   "cell_type": "code",
   "execution_count": 18,
   "id": "f141bd78",
   "metadata": {},
   "outputs": [
    {
     "name": "stdout",
     "output_type": "stream",
     "text": [
      "253\n"
     ]
    }
   ],
   "source": [
    "fileLength('midterm.py')"
   ]
  },
  {
   "cell_type": "code",
   "execution_count": 19,
   "id": "067219f1",
   "metadata": {},
   "outputs": [
    {
     "name": "stdout",
     "output_type": "stream",
     "text": [
      "File idterm.py not found.\n"
     ]
    }
   ],
   "source": [
    "fileLength('idterm.py')"
   ]
  },
  {
   "cell_type": "markdown",
   "id": "0ee3d918",
   "metadata": {},
   "source": [
    "# Question 3"
   ]
  },
  {
   "cell_type": "markdown",
   "id": "f3e293ff",
   "metadata": {},
   "source": [
    "Write a class named Marsupial that can be used as shown below:\n",
    "m = Marsupial()\n",
    "m.put_in_pouch('doll')\n",
    "m.put_in_pouch('firetruck')\n",
    "m.put_in_pouch('kitten')\n",
    "m.pouch_contents()\n",
    "['doll', 'firetruck', 'kitten']\n",
    "Now write a class named Kangaroo as a subclass of Marsupial that inherits all the attributes of Marsupial and also:\n",
    "a. extends the Marsupial __init__ constructor to take, as input, the coordinates x and y of the Kangaroo object,\n",
    "b. supports method jump that takes number values dx and dy as input and moves the kangaroo by dx units along the x-axis and by dy units along the yaxis, and\n",
    "c. overloads the __str__ operator so it behaves as shown below.\n",
    "k = Kangaroo(0,0)\n",
    "print(k)\n",
    "I am a Kangaroo located at coordinates (0,0)\n",
    "k.put_in_pouch('doll')\n",
    "k.put_in_pouch('firetruck')\n",
    "k.put_in_pouch('kitten')\n",
    ".pouch_contents()\n",
    "['doll', 'firetruck', 'kitten']\n",
    "k.jump(1,0)\n",
    "k.jump(1,0)\n",
    "k.jump(1,0)\n",
    "print(k)\n",
    "I am a Kangaroo located at coordinates (3,0)"
   ]
  },
  {
   "cell_type": "code",
   "execution_count": 20,
   "id": "ba1cf3e1",
   "metadata": {},
   "outputs": [],
   "source": [
    "class Marsupial:\n",
    "    \n",
    "    def __init__(self):\n",
    "        self.pouchContents = []\n",
    "    def pouch_contents(self):\n",
    "        print(self.pouchContents)\n",
    "    def put_in_pouch(self,word):\n",
    "        self.pouchContents.append(word)                "
   ]
  },
  {
   "cell_type": "code",
   "execution_count": 21,
   "id": "9a71c4c1",
   "metadata": {},
   "outputs": [
    {
     "name": "stdout",
     "output_type": "stream",
     "text": [
      "['doll', 'firetruck', 'kitten']\n"
     ]
    }
   ],
   "source": [
    "m = Marsupial()\n",
    "m.put_in_pouch('doll')\n",
    "m.put_in_pouch('firetruck')\n",
    "m.put_in_pouch('kitten')\n",
    "m.pouch_contents()"
   ]
  },
  {
   "cell_type": "code",
   "execution_count": 22,
   "id": "ac7eb278",
   "metadata": {},
   "outputs": [],
   "source": [
    "class Kangaroo(Marsupial):\n",
    "    \n",
    "    def __init__(self,x,y):\n",
    "        Marsupial.__init__(self)\n",
    "        self.x = x\n",
    "        self.y = y\n",
    "        \n",
    "    def jump(self,dx,dy):\n",
    "        self.x += dx\n",
    "        self.y += dy\n",
    "        \n",
    "    def __str__(self):\n",
    "        return \"I am a kangaroo located at coordinates ({} , {})\".format(self.x,self.y)"
   ]
  },
  {
   "cell_type": "code",
   "execution_count": 23,
   "id": "5c625f0a",
   "metadata": {},
   "outputs": [
    {
     "name": "stdout",
     "output_type": "stream",
     "text": [
      "I am a kangaroo located at coordinates (0 , 0)\n"
     ]
    }
   ],
   "source": [
    "k = Kangaroo(0,0)\n",
    "print(k)"
   ]
  },
  {
   "cell_type": "code",
   "execution_count": 24,
   "id": "81f6b639",
   "metadata": {},
   "outputs": [
    {
     "name": "stdout",
     "output_type": "stream",
     "text": [
      "['doll', 'firetruck', 'kitten']\n"
     ]
    }
   ],
   "source": [
    "k.put_in_pouch('doll')\n",
    "k.put_in_pouch('firetruck')\n",
    "k.put_in_pouch('kitten')\n",
    "k.pouch_contents()"
   ]
  },
  {
   "cell_type": "code",
   "execution_count": 25,
   "id": "6acb84d6",
   "metadata": {},
   "outputs": [
    {
     "name": "stdout",
     "output_type": "stream",
     "text": [
      "I am a kangaroo located at coordinates (3 , 0)\n"
     ]
    }
   ],
   "source": [
    "k.jump(1,0)\n",
    "k.jump(1,0)\n",
    "k.jump(1,0)\n",
    "print(k)"
   ]
  },
  {
   "cell_type": "markdown",
   "id": "feee651b",
   "metadata": {},
   "source": [
    "# Question 4"
   ]
  },
  {
   "cell_type": "markdown",
   "id": "61adecdd",
   "metadata": {},
   "source": [
    "Write function collatz() that takes a positive integer x as input and prints the\n",
    "Collatz sequence starting at x. A Collatz sequence is obtained by repeatedly applying\n",
    "this rule to the previous number x in the sequence:\n",
    "x = {\n",
    "𝑥/2 𝑖𝑓 𝑥 𝑖𝑠 𝑒𝑣𝑒𝑛\n",
    "3𝑥 + 1 𝑖𝑓 𝑥 𝑖𝑠 𝑜𝑑𝑑\n",
    "Your function should stop when the sequence gets to number 1. Your\n",
    "implementation must be recursive, without any loops.\n",
    "collatz(1)\n",
    "1\n",
    "collatz(10)\n",
    "10\n",
    "5\n",
    "16\n",
    "8\n",
    "4\n",
    "2\n",
    "1"
   ]
  },
  {
   "cell_type": "code",
   "execution_count": 26,
   "id": "58bb6fa4",
   "metadata": {},
   "outputs": [],
   "source": [
    "def collatz(number):\n",
    "    print(int(number))\n",
    "    \n",
    "    if number<0:\n",
    "        print(\"Enter a postive integer\")\n",
    "        \n",
    "    elif number==1:\n",
    "        return\n",
    "    \n",
    "    elif number%2 !=0:\n",
    "        number = (3*number)+1\n",
    "        collatz(number)\n",
    "        \n",
    "    elif number%2 ==0:\n",
    "        number/=2\n",
    "        collatz(number)\n",
    "        \n",
    "    "
   ]
  },
  {
   "cell_type": "code",
   "execution_count": 27,
   "id": "9f0e7214",
   "metadata": {},
   "outputs": [
    {
     "name": "stdout",
     "output_type": "stream",
     "text": [
      "1\n"
     ]
    }
   ],
   "source": [
    ">>> collatz(1)"
   ]
  },
  {
   "cell_type": "code",
   "execution_count": 28,
   "id": "894b158a",
   "metadata": {},
   "outputs": [
    {
     "name": "stdout",
     "output_type": "stream",
     "text": [
      "10\n",
      "5\n",
      "16\n",
      "8\n",
      "4\n",
      "2\n",
      "1\n"
     ]
    }
   ],
   "source": [
    ">>> collatz(10)"
   ]
  },
  {
   "cell_type": "markdown",
   "id": "03da1a39",
   "metadata": {},
   "source": [
    "# Question 5"
   ]
  },
  {
   "cell_type": "markdown",
   "id": "1fc60934",
   "metadata": {},
   "source": [
    "Write a recursive method binary() that takes a non-negative integer n and prints the binary representation of integer n.\n",
    "binary(0)\n",
    "0\n",
    "binary(1)\n",
    "1\n",
    "binary(3)\n",
    "11\n",
    "binary(9)\n",
    "1001"
   ]
  },
  {
   "cell_type": "code",
   "execution_count": 1,
   "id": "1a518282",
   "metadata": {},
   "outputs": [],
   "source": [
    "def binary(number):\n",
    "    if number<0:\n",
    "        print(\"Given number is not a positive integer.\")\n",
    "    elif number==0:\n",
    "        print(0)\n",
    "    else:\n",
    "        mod = number%2\n",
    "        print(mod, end=\"\")\n",
    "        number = number//2\n",
    "        binary(number)"
   ]
  },
  {
   "cell_type": "code",
   "execution_count": 2,
   "id": "85296ee6",
   "metadata": {},
   "outputs": [
    {
     "name": "stdout",
     "output_type": "stream",
     "text": [
      "0\n"
     ]
    }
   ],
   "source": [
    "binary(0)"
   ]
  },
  {
   "cell_type": "code",
   "execution_count": 3,
   "id": "93950b0a",
   "metadata": {},
   "outputs": [
    {
     "name": "stdout",
     "output_type": "stream",
     "text": [
      "10\n"
     ]
    }
   ],
   "source": [
    "binary(1)"
   ]
  },
  {
   "cell_type": "code",
   "execution_count": 4,
   "id": "0f2a8e0f",
   "metadata": {},
   "outputs": [
    {
     "name": "stdout",
     "output_type": "stream",
     "text": [
      "110\n"
     ]
    }
   ],
   "source": [
    "binary(3)"
   ]
  },
  {
   "cell_type": "code",
   "execution_count": 5,
   "id": "a4c94983",
   "metadata": {},
   "outputs": [
    {
     "name": "stdout",
     "output_type": "stream",
     "text": [
      "10010\n"
     ]
    }
   ],
   "source": [
    "binary(9)"
   ]
  },
  {
   "cell_type": "markdown",
   "id": "549e3a48",
   "metadata": {},
   "source": [
    "# Question 6"
   ]
  },
  {
   "cell_type": "markdown",
   "id": "025d09c6",
   "metadata": {},
   "source": [
    "Implement a class named HeadingParser that can be used to parse an HTML document, and retrieve and print all the headings in the \n",
    "document. You should implement your class as a subclass of HTMLParser, defined in Standard Library module html.parser. When fed\n",
    "a string containing HTML code, your class should print the headings, one per line and in the order in which they appear in the\n",
    "document. Each heading should be indented as follows: an h1 heading should have indentation 0, and h2 heading should have \n",
    "indentation 1, etc. Test your implementation using w3c.html.\n",
    "infile = open('w3c.html')\n",
    "content = infile.read()\n",
    "infile.close()\n",
    "hp = HeadingParser()\n",
    "hp.feed(content)\n",
    "W3C Mission\n",
    "Principles "
   ]
  },
  {
   "cell_type": "code",
   "execution_count": 89,
   "id": "bfe5916c",
   "metadata": {},
   "outputs": [],
   "source": [
    "from html.parser import HTMLParser\n",
    "\n",
    "class HeadingParser(HTMLParser):\n",
    "    \n",
    "    def __init__(self):\n",
    "        HTMLParser.__init__(self)\n",
    "        self.headingFound = False\n",
    "        \n",
    "    def handle_starttag(self, tag, attrs):\n",
    "        headingTag = ['h1', 'h2', 'h3', 'h4', 'h5', 'h6']\n",
    "        if tag in headingTag:\n",
    "            self.headingFound = True\n",
    "            self.indent = headingTag.index(tag)\n",
    "        else:\n",
    "            self.headingFound = False\n",
    "            \n",
    "    def handle_data(self, data):\n",
    "        if self.headingFound == True:\n",
    "            print(' '*self.indent, data, end = '')"
   ]
  },
  {
   "cell_type": "code",
   "execution_count": 90,
   "id": "d580c184",
   "metadata": {},
   "outputs": [
    {
     "name": "stdout",
     "output_type": "stream",
     "text": [
      " W3C Mission \n",
      "  Principles  \n",
      "  \n"
     ]
    }
   ],
   "source": [
    "infile = open('w3c.html')\n",
    "content = infile.read()\n",
    "infile.close()\n",
    "headingparser = HeadingParser()\n",
    "headingparser.feed(content)"
   ]
  },
  {
   "cell_type": "markdown",
   "id": "a2a2c5db",
   "metadata": {},
   "source": [
    "# Question 7"
   ]
  },
  {
   "cell_type": "markdown",
   "id": "3953079a",
   "metadata": {},
   "source": [
    "Implement recursive function webdir() that takes as input: a URL (as a string) and\n",
    "non-negative integers depth and indent. Your function should visit every web\n",
    "page reachable from the starting URL web page in depth clicks or less, and print\n",
    "each web page's URL. As shown below, indentation, specified by indent, should\n",
    "be used to indicate the depth of a URL.\n",
    "\n",
    "webdir('http://reed.cs.depaul.edu/lperkovic/csc242/test1.html' , 2, 0)\n",
    "http://reed.cs.depaul.edu/lperkovic/csc242/test1.html\n",
    " http://reed.cs.depaul.edu/lperkovic/csc242/test2.html\n",
    " http://reed.cs.depaul.edu/lperkovic/csc242/test4.html\n",
    " http://reed.cs.depaul.edu/lperkovic/csc242/test3.html\n",
    " http://reed.cs.depaul.edu/lperkovic/csc242/test4.html"
   ]
  },
  {
   "cell_type": "code",
   "execution_count": 8,
   "id": "32664dd9",
   "metadata": {},
   "outputs": [
    {
     "name": "stdout",
     "output_type": "stream",
     "text": [
      "http://reed.cs.depaul.edu/lperkovic/one.html \n",
      "     http://reed.cs.depaul.edu/lperkovic/one.html \n",
      "         http://reed.cs.depaul.edu/lperkovic/two.html\n",
      "         http://reed.cs.depaul.edu/lperkovic/three.html\n"
     ]
    }
   ],
   "source": [
    "from urllib.request import urlopen\n",
    "from urllib.parse import urljoin\n",
    "from html.parser import HTMLParser\n",
    "\n",
    "\n",
    "class Findlinks(HTMLParser):\n",
    "\n",
    "    def __init__(self, url):\n",
    "        HTMLParser.__init__(self)\n",
    "        self.url = url\n",
    "        self.subLinks = []\n",
    "\n",
    "    def handle_starttag(self, tag, attrs):\n",
    "        if tag == 'a':\n",
    "            for attr in attrs:\n",
    "                if attr[0] == 'href':\n",
    "                    subURL = urljoin(self.url, attr[1])\n",
    "                    if subURL[:4] == 'http':\n",
    "                        self.subLinks.append(subURL)\n",
    "\n",
    "    def getLinks(self):\n",
    "        return self.subLinks\n",
    "\n",
    "\n",
    "def webdir(startLink, depth, indent):\n",
    "\n",
    "    try:\n",
    "        htmlData = urlopen(startLink)\n",
    "        content = htmlData.read().decode()\n",
    "        getURL = Findlinks(startLink)\n",
    "        getURL.feed(content)\n",
    "        urls = getURL.getLinks()\n",
    "        if indent == 0:\n",
    "            print(startLink)\n",
    "        indent += 4\n",
    "        depth -= 1\n",
    "        print(' '*indent, startLink, end = '\\n')\n",
    "        for url in urls:\n",
    "            if depth > 0:\n",
    "                webdir(url, depth, indent)\n",
    "    except ValueError:\n",
    "        print(\"Caught execption\", e)\n",
    "\n",
    "\n",
    "webdir(\"http://reed.cs.depaul.edu/lperkovic/one.html \", 2, 0)"
   ]
  },
  {
   "cell_type": "markdown",
   "id": "894d259d",
   "metadata": {},
   "source": [
    "# Question 8"
   ]
  },
  {
   "cell_type": "markdown",
   "id": "087ad239",
   "metadata": {},
   "source": [
    "Write SQL queries on the below database table that return:\n",
    "a) All the temperature data.\n",
    "b) All the cities, but without repetition.\n",
    "c) All the records for India.\n",
    "d) All the Fall records.\n",
    "e) The city, country, and season for which the average rainfall is between 200\n",
    "and 400 millimeters.\n",
    "f) The city and country for which the average Fall temperature is above 20\n",
    "degrees, in increasing temperature order.\n",
    "g) The total annual rainfall for Cairo.\n",
    "h) The total rainfall for each season."
   ]
  },
  {
   "cell_type": "code",
   "execution_count": 17,
   "id": "33d8c890",
   "metadata": {},
   "outputs": [],
   "source": [
    "import sqlite3\n",
    "con = sqlite3.connect('web_1.db')\n",
    "cur = con.cursor()\n",
    "cur.execute(\"CREATE TABLE Weather(City, Country, Season, Temperature, Rainfall)\")\n",
    "cur.execute(\"INSERT INTO Weather VALUES('Mumbai', 'India', 'Winter', 24.8, 5.9 )\")\n",
    "Row1 = ('Mumbai', 'India', 'Spring', 28.4, 16.2 )\n",
    "Row2 = ('Mumbai', 'India', 'Summer', 27.9, 1549.4 )\n",
    "Row3 = ('Mumbai', 'India', 'Fall', 27.6, 346.0 )\n",
    "Row4 = ('London', 'United Kingdom', 'Winter', 4.2, 207.7)\n",
    "Row5 = ('London', 'United Kingdom', 'Spring', 8.3, 169.6 )\n",
    "Row6 = ('London', 'United Kingdom', 'Summer', 15.7, 157.0 )\n",
    "Row7 = ('London', 'United Kingdom', 'Fall', 10.4, 218.5 )\n",
    "Row8 = ('Cairo', 'Egypt', 'Winter', 13.6, 16.5 )\n",
    "Row9 = ('Cairo', 'Egypt', 'Spring', 20.7, 6.5 )\n",
    "Row10 = ('Cairo', 'Egypt', 'Summer', 27.7, 0.1)\n",
    "Row11 = ('Cairo', 'Egypt', 'Fall', 22.2, 4.5 )\n",
    "\n",
    "cur.execute(\"INSERT INTO Weather VALUES (?, ?, ?, ?, ?)\",Row1)\n",
    "cur.execute(\"INSERT INTO Weather VALUES (?, ?, ?, ?, ?)\",Row2)\n",
    "cur.execute(\"INSERT INTO Weather VALUES (?, ?, ?, ?, ?)\",Row3)\n",
    "cur.execute(\"INSERT INTO Weather VALUES (?, ?, ?, ?, ?)\",Row4)\n",
    "cur.execute(\"INSERT INTO Weather VALUES (?, ?, ?, ?, ?)\",Row5)\n",
    "cur.execute(\"INSERT INTO Weather VALUES (?, ?, ?, ?, ?)\",Row6)\n",
    "cur.execute(\"INSERT INTO Weather VALUES (?, ?, ?, ?, ?)\",Row7)\n",
    "cur.execute(\"INSERT INTO Weather VALUES (?, ?, ?, ?, ?)\",Row8)\n",
    "cur.execute(\"INSERT INTO Weather VALUES (?, ?, ?, ?, ?)\",Row9)\n",
    "cur.execute(\"INSERT INTO Weather VALUES (?, ?, ?, ?, ?)\",Row10)\n",
    "cur.execute(\"INSERT INTO Weather VALUES (?, ?, ?, ?, ?)\",Row11)\n",
    "\n",
    "con.commit()\n",
    "con.close()"
   ]
  },
  {
   "cell_type": "code",
   "execution_count": 28,
   "id": "15cfb822",
   "metadata": {},
   "outputs": [
    {
     "data": {
      "text/plain": [
       "[(24.8,),\n",
       " (28.4,),\n",
       " (27.9,),\n",
       " (27.6,),\n",
       " (4.2,),\n",
       " (8.3,),\n",
       " (15.7,),\n",
       " (10.4,),\n",
       " (13.6,),\n",
       " (20.7,),\n",
       " (27.7,),\n",
       " (22.2,)]"
      ]
     },
     "execution_count": 28,
     "metadata": {},
     "output_type": "execute_result"
    }
   ],
   "source": [
    "con = sqlite3.connect('web_1.db')\n",
    "cur = con.cursor()\n",
    "\n",
    "#a) All the temperature data.\n",
    "\n",
    "cur.execute('SELECT Temperature FROM Weather')\n",
    "cur.fetchall()"
   ]
  },
  {
   "cell_type": "code",
   "execution_count": 29,
   "id": "5b00fed0",
   "metadata": {},
   "outputs": [
    {
     "data": {
      "text/plain": [
       "[('Mumbai',), ('London',), ('Cairo',)]"
      ]
     },
     "execution_count": 29,
     "metadata": {},
     "output_type": "execute_result"
    }
   ],
   "source": [
    "#b) All the cities, but without repetition\n",
    "\n",
    "cur.execute('SELECT DISTINCT City FROM Weather')\n",
    "cur.fetchall()"
   ]
  },
  {
   "cell_type": "code",
   "execution_count": 30,
   "id": "662d97b5",
   "metadata": {},
   "outputs": [
    {
     "data": {
      "text/plain": [
       "[('Mumbai', 'India', 'Winter', 24.8, 5.9),\n",
       " ('Mumbai', 'India', 'Spring', 28.4, 16.2),\n",
       " ('Mumbai', 'India', 'Summer', 27.9, 1549.4),\n",
       " ('Mumbai', 'India', 'Fall', 27.6, 346.0)]"
      ]
     },
     "execution_count": 30,
     "metadata": {},
     "output_type": "execute_result"
    }
   ],
   "source": [
    "#c) All the records for India\n",
    "\n",
    "cur.execute('SELECT * FROM Weather WHERE Country=\"India\"')\n",
    "cur.fetchall()"
   ]
  },
  {
   "cell_type": "code",
   "execution_count": 31,
   "id": "323dd0d5",
   "metadata": {},
   "outputs": [
    {
     "data": {
      "text/plain": [
       "[('Mumbai', 'India', 'Fall', 27.6, 346.0),\n",
       " ('London', 'United Kingdom', 'Fall', 10.4, 218.5),\n",
       " ('Cairo', 'Egypt', 'Fall', 22.2, 4.5)]"
      ]
     },
     "execution_count": 31,
     "metadata": {},
     "output_type": "execute_result"
    }
   ],
   "source": [
    "#d) All the Fall records.\n",
    "\n",
    "cur.execute('SELECT * FROM Weather WHERE Season=\"Fall\"')\n",
    "cur.fetchall()"
   ]
  },
  {
   "cell_type": "code",
   "execution_count": 32,
   "id": "76183037",
   "metadata": {},
   "outputs": [
    {
     "data": {
      "text/plain": [
       "[('Mumbai', 'India', 'Fall'),\n",
       " ('London', 'United Kingdom', 'Winter'),\n",
       " ('London', 'United Kingdom', 'Fall')]"
      ]
     },
     "execution_count": 32,
     "metadata": {},
     "output_type": "execute_result"
    }
   ],
   "source": [
    "#e) The city, country, and season for which the average rainfall is between 200 and 400 millimeters.\n",
    "\n",
    "cur.execute('SELECT DISTINCT City, Country, Season FROM Weather WHERE Rainfall BETWEEN 200 and 400')\n",
    "cur.fetchall()"
   ]
  },
  {
   "cell_type": "code",
   "execution_count": 33,
   "id": "d2f8df69",
   "metadata": {},
   "outputs": [
    {
     "data": {
      "text/plain": [
       "[('Cairo', 'Egypt', 'Fall'), ('Mumbai', 'India', 'Fall')]"
      ]
     },
     "execution_count": 33,
     "metadata": {},
     "output_type": "execute_result"
    }
   ],
   "source": [
    "#f) The city and country for which the average Fall temperature is above 20 degrees, in increasing temperature order.\n",
    "\n",
    "cur.execute('SELECT DISTINCT City, Country, Season FROM Weather WHERE Season=\"Fall\" AND Temperature>20 ORDER BY TEMPERATURE')\n",
    "cur.fetchall()"
   ]
  },
  {
   "cell_type": "code",
   "execution_count": 34,
   "id": "202cc260",
   "metadata": {},
   "outputs": [
    {
     "data": {
      "text/plain": [
       "[(27.6,)]"
      ]
     },
     "execution_count": 34,
     "metadata": {},
     "output_type": "execute_result"
    }
   ],
   "source": [
    "#g) The total annual rainfall for Cairo.\n",
    "\n",
    "cur.execute('SELECT SUM(Rainfall) FROM Weather WHERE City=\"Cairo\"')\n",
    "cur.fetchall()"
   ]
  },
  {
   "cell_type": "code",
   "execution_count": 35,
   "id": "a5e7cc95",
   "metadata": {},
   "outputs": [
    {
     "data": {
      "text/plain": [
       "[('Fall', 569.0),\n",
       " ('Spring', 192.29999999999998),\n",
       " ('Summer', 1706.5),\n",
       " ('Winter', 230.1)]"
      ]
     },
     "execution_count": 35,
     "metadata": {},
     "output_type": "execute_result"
    }
   ],
   "source": [
    "#h) The total rainfall for each season.\n",
    "\n",
    "cur.execute('SELECT Season, SUM(Rainfall) FROM Weather GROUP BY Season')\n",
    "cur.fetchall()"
   ]
  },
  {
   "cell_type": "markdown",
   "id": "22818c2e",
   "metadata": {},
   "source": [
    "# Question 9"
   ]
  },
  {
   "cell_type": "markdown",
   "id": "bf241f2e",
   "metadata": {},
   "source": [
    "Suppose list words is defined as follows:\n",
    "words = ['The', 'quick', 'brown', 'fox', 'jumps', 'over',\n",
    "'the', 'lazy', 'dog']\n",
    "Write list comprehension expressions that use list words and generate the following\n",
    "lists:\n",
    "a) ['THE', 'QUICK', 'BROWN', 'FOX', 'JUMPS', 'OVER', 'THE',\n",
    "'LAZY', 'DOG']\n",
    "b) ['the', 'quick', 'brown', 'fox', 'jumps', 'over', 'the',\n",
    "'lazy', 'dog']\n",
    "c) [3, 5, 5, 3, 5, 4, 3, 4, 3] (the list of lengths of words in list\n",
    "words).\n",
    "d) [['THE', 'the', 3], ['QUICK', 'quick', 5], ['BROWN',\n",
    "'brown', 5], ['FOX', 'fox', 3], ['JUMPS', 'jumps', 5],\n",
    "['OVER', 'over', 4], ['THE', 'the', 3], ['LAZY', 'lazy',\n",
    "4], ['DOG', 'dog', 3]] (the list containing a list for every word of list\n",
    "words, where each list contains the word in uppercase and lowercase and the\n",
    "length of the word.)\n",
    "e) ['The', 'quick', 'brown', 'fox', 'jumps', 'over', 'the',\n",
    "'lazy', 'dog'] (the list of words in list words containing 4 or more\n",
    "characters.)"
   ]
  },
  {
   "cell_type": "code",
   "execution_count": 36,
   "id": "a29af5b9",
   "metadata": {},
   "outputs": [],
   "source": [
    "words = ['The', 'quick', 'brown', 'fox', 'jumps', 'over', 'the', 'lazy', 'dog']"
   ]
  },
  {
   "cell_type": "code",
   "execution_count": 42,
   "id": "e9b38134",
   "metadata": {},
   "outputs": [
    {
     "name": "stdout",
     "output_type": "stream",
     "text": [
      "['THE', 'QUICK', 'BROWN', 'FOX', 'JUMPS', 'OVER', 'THE', 'LAZY', 'DOG']\n"
     ]
    }
   ],
   "source": [
    "#a) \n",
    "\n",
    "task1 = [w.upper() for w in words]\n",
    "print(task1)"
   ]
  },
  {
   "cell_type": "code",
   "execution_count": 43,
   "id": "fe40f677",
   "metadata": {},
   "outputs": [
    {
     "name": "stdout",
     "output_type": "stream",
     "text": [
      "['the', 'quick', 'brown', 'fox', 'jumps', 'over', 'the', 'lazy', 'dog']\n"
     ]
    }
   ],
   "source": [
    "#b) \n",
    "\n",
    "task2 = [w.lower() for w in words]\n",
    "print(task2)"
   ]
  },
  {
   "cell_type": "code",
   "execution_count": 44,
   "id": "27cfe51d",
   "metadata": {},
   "outputs": [
    {
     "name": "stdout",
     "output_type": "stream",
     "text": [
      "[3, 5, 5, 3, 5, 4, 3, 4, 3]\n"
     ]
    }
   ],
   "source": [
    "#c)\n",
    "\n",
    "task3 = [len(w) for w in words]\n",
    "print(task3)"
   ]
  },
  {
   "cell_type": "code",
   "execution_count": 45,
   "id": "5f2a4661",
   "metadata": {},
   "outputs": [
    {
     "name": "stdout",
     "output_type": "stream",
     "text": [
      "[['THE', 'the', 3], ['QUICK', 'quick', 5], ['BROWN', 'brown', 5], ['FOX', 'fox', 3], ['JUMPS', 'jumps', 5], ['OVER', 'over', 4], ['THE', 'the', 3], ['LAZY', 'lazy', 4], ['DOG', 'dog', 3]]\n"
     ]
    }
   ],
   "source": [
    "#d)\n",
    "\n",
    "task4 = [[w.upper(), w.lower(), len(w)] for w in words]\n",
    "print(task4)"
   ]
  },
  {
   "cell_type": "code",
   "execution_count": 47,
   "id": "09554e86",
   "metadata": {},
   "outputs": [
    {
     "name": "stdout",
     "output_type": "stream",
     "text": [
      "['quick', 'brown', 'jumps', 'over', 'lazy']\n"
     ]
    }
   ],
   "source": [
    "#e)\n",
    "\n",
    "task5 = [w for w in words if len(w)>=4]\n",
    "print(task5)"
   ]
  }
 ],
 "metadata": {
  "kernelspec": {
   "display_name": "Python 3",
   "language": "python",
   "name": "python3"
  },
  "language_info": {
   "codemirror_mode": {
    "name": "ipython",
    "version": 3
   },
   "file_extension": ".py",
   "mimetype": "text/x-python",
   "name": "python",
   "nbconvert_exporter": "python",
   "pygments_lexer": "ipython3",
   "version": "3.8.8"
  }
 },
 "nbformat": 4,
 "nbformat_minor": 5
}
